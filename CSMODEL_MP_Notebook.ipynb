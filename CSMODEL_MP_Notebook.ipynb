{
 "cells": [
  {
   "cell_type": "markdown",
   "metadata": {
    "cell_id": "00001-1d52d951-7438-4dd3-ac92-bef43858eea6",
    "deepnote_cell_type": "markdown",
    "tags": []
   },
   "source": [
    "# Family Income and Expenditures"
   ]
  },
  {
   "cell_type": "markdown",
   "metadata": {
    "cell_id": "00002-c272d702-d1b0-445f-b5ae-3124256247ce",
    "deepnote_cell_type": "markdown",
    "tags": []
   },
   "source": [
    "## Import Libraries"
   ]
  },
  {
   "cell_type": "code",
   "execution_count": 26,
   "metadata": {
    "cell_id": "00003-b2a707d4-95ed-4cc3-8709-29a61a5d29b6",
    "deepnote_cell_type": "code",
    "deepnote_to_be_reexecuted": false,
    "execution_millis": 1069,
    "execution_start": 1629033421824,
    "source_hash": "3d9f3e93",
    "tags": []
   },
   "outputs": [],
   "source": [
    "import numpy as np\n",
    "import pandas as pd\n",
    "import matplotlib.pyplot as plt\n",
    "from scipy import stats\n",
    "from scipy.stats import norm\n",
    "from scipy.stats import ttest_ind\n",
    "from scipy.stats import chi2_contingency"
   ]
  },
  {
   "cell_type": "markdown",
   "metadata": {
    "cell_id": "00003-c053e6d8-61b5-46a9-b07f-d7b67d1b1534",
    "deepnote_cell_type": "markdown",
    "tags": []
   },
   "source": [
    "## Dataset Representation\n",
    "\n",
    "The dataset is derived from the Family Income and Expenditure Survey (FIES) conducted in 2015 by the Philippine Statistics Authority (PSA) nationwide. The survey, undertaken every three (3) years, aims to provide data on family income, income inequality among Filipino families, and family consumption and expenditures for the country and its seventeen (17) administrative regions. It is conducted in two separate operations using two separate questionnaires with the same set of questions. These data are the basic inputs in the estimation of the country’s poverty threshold and incidence and the basis for policies and programs of the government to improve the socio-economic conditions of the Filipino people.\n",
    "\n",
    "The dataset was posted by Francis Paul Flores on October 5, 2017 in Kaggle.\n",
    "\n",
    "Source of dataset: https://www.kaggle.com/grosvenpaul/family-income-and-expenditure\n",
    "\n",
    "Reference: https://psa.gov.ph/sites/default/files/FIES%202015%20Final%20Report.pdf"
   ]
  },
  {
   "cell_type": "code",
   "execution_count": 27,
   "metadata": {
    "cell_id": "00004-c884385a-4f23-476f-b8e5-ba918bfa926f",
    "deepnote_cell_type": "code",
    "deepnote_to_be_reexecuted": false,
    "execution_millis": 366,
    "execution_start": 1629033422902,
    "source_hash": "482ab7c2",
    "tags": []
   },
   "outputs": [
    {
     "name": "stdout",
     "output_type": "stream",
     "text": [
      "<class 'pandas.core.frame.DataFrame'>\n",
      "RangeIndex: 41544 entries, 0 to 41543\n",
      "Data columns (total 60 columns):\n",
      " #   Column                                         Non-Null Count  Dtype \n",
      "---  ------                                         --------------  ----- \n",
      " 0   Total Household Income                         41544 non-null  int64 \n",
      " 1   Region                                         41544 non-null  object\n",
      " 2   Total Food Expenditure                         41544 non-null  int64 \n",
      " 3   Main Source of Income                          41544 non-null  object\n",
      " 4   Agricultural Household indicator               41544 non-null  int64 \n",
      " 5   Bread and Cereals Expenditure                  41544 non-null  int64 \n",
      " 6   Total Rice Expenditure                         41544 non-null  int64 \n",
      " 7   Meat Expenditure                               41544 non-null  int64 \n",
      " 8   Total Fish and  marine products Expenditure    41544 non-null  int64 \n",
      " 9   Fruit Expenditure                              41544 non-null  int64 \n",
      " 10  Vegetables Expenditure                         41544 non-null  int64 \n",
      " 11  Restaurant and hotels Expenditure              41544 non-null  int64 \n",
      " 12  Alcoholic Beverages Expenditure                41544 non-null  int64 \n",
      " 13  Tobacco Expenditure                            41544 non-null  int64 \n",
      " 14  Clothing, Footwear and Other Wear Expenditure  41544 non-null  int64 \n",
      " 15  Housing and water Expenditure                  41544 non-null  int64 \n",
      " 16  Imputed House Rental Value                     41544 non-null  int64 \n",
      " 17  Medical Care Expenditure                       41544 non-null  int64 \n",
      " 18  Transportation Expenditure                     41544 non-null  int64 \n",
      " 19  Communication Expenditure                      41544 non-null  int64 \n",
      " 20  Education Expenditure                          41544 non-null  int64 \n",
      " 21  Miscellaneous Goods and Services Expenditure   41544 non-null  int64 \n",
      " 22  Special Occasions Expenditure                  41544 non-null  int64 \n",
      " 23  Crop Farming and Gardening expenses            41544 non-null  int64 \n",
      " 24  Total Income from Entrepreneurial Acitivites   41544 non-null  int64 \n",
      " 25  Household Head Sex                             41544 non-null  object\n",
      " 26  Household Head Age                             41544 non-null  int64 \n",
      " 27  Household Head Marital Status                  41544 non-null  object\n",
      " 28  Household Head Highest Grade Completed         41544 non-null  object\n",
      " 29  Household Head Job or Business Indicator       41544 non-null  object\n",
      " 30  Household Head Occupation                      34008 non-null  object\n",
      " 31  Household Head Class of Worker                 34008 non-null  object\n",
      " 32  Type of Household                              41544 non-null  object\n",
      " 33  Total Number of Family members                 41544 non-null  int64 \n",
      " 34  Members with age less than 5 year old          41544 non-null  int64 \n",
      " 35  Members with age 5 - 17 years old              41544 non-null  int64 \n",
      " 36  Total number of family members employed        41544 non-null  int64 \n",
      " 37  Type of Building/House                         41544 non-null  object\n",
      " 38  Type of Roof                                   41544 non-null  object\n",
      " 39  Type of Walls                                  41544 non-null  object\n",
      " 40  House Floor Area                               41544 non-null  int64 \n",
      " 41  House Age                                      41544 non-null  int64 \n",
      " 42  Number of bedrooms                             41544 non-null  int64 \n",
      " 43  Tenure Status                                  41544 non-null  object\n",
      " 44  Toilet Facilities                              41544 non-null  object\n",
      " 45  Electricity                                    41544 non-null  int64 \n",
      " 46  Main Source of Water Supply                    41544 non-null  object\n",
      " 47  Number of Television                           41544 non-null  int64 \n",
      " 48  Number of CD/VCD/DVD                           41544 non-null  int64 \n",
      " 49  Number of Component/Stereo set                 41544 non-null  int64 \n",
      " 50  Number of Refrigerator/Freezer                 41544 non-null  int64 \n",
      " 51  Number of Washing Machine                      41544 non-null  int64 \n",
      " 52  Number of Airconditioner                       41544 non-null  int64 \n",
      " 53  Number of Car, Jeep, Van                       41544 non-null  int64 \n",
      " 54  Number of Landline/wireless telephones         41544 non-null  int64 \n",
      " 55  Number of Cellular phone                       41544 non-null  int64 \n",
      " 56  Number of Personal Computer                    41544 non-null  int64 \n",
      " 57  Number of Stove with Oven/Gas Range            41544 non-null  int64 \n",
      " 58  Number of Motorized Banca                      41544 non-null  int64 \n",
      " 59  Number of Motorcycle/Tricycle                  41544 non-null  int64 \n",
      "dtypes: int64(45), object(15)\n",
      "memory usage: 19.0+ MB\n"
     ]
    },
    {
     "data": {
      "text/plain": [
       "(41544, 60)"
      ]
     },
     "execution_count": 27,
     "metadata": {},
     "output_type": "execute_result"
    }
   ],
   "source": [
    "family_df = pd.read_csv(\"Family Income and Expenditure.csv\")\n",
    "family_df.info()\n",
    "family_df.shape"
   ]
  },
  {
   "cell_type": "markdown",
   "metadata": {
    "cell_id": "00006-6d52d578-e792-4403-8d6b-ab3504bf4e78",
    "deepnote_cell_type": "markdown",
    "tags": []
   },
   "source": [
    "### Observations\n",
    "\n",
    "The dataset contains a total of 41,544 observations, each representing a specific household in the Philippines."
   ]
  },
  {
   "cell_type": "markdown",
   "metadata": {
    "cell_id": "00006-c8b57c43-3bb6-433c-83a6-3eb1f14acad6",
    "deepnote_cell_type": "markdown",
    "tags": []
   },
   "source": [
    "\n",
    "### Variables\n",
    "The dataset consists of 60 variables describing each observation. The following are the descriptions for each variable:\n",
    "\n",
    "- **`Total Household Income`**:  Total annual income earned by every member of the single household.\n",
    "- **`Region`**: Region wherein the household resides.\n",
    "- **`Total Food Expenditure`**: Total amount of money spent on food.\n",
    "- **`Main Source of Income`**: The household's source of income wherein majority of their money is earned.\n",
    "- **`Agricultural Household indicator`**: Indicates whether a household belongs to the agricultural sector; 1 = true, 0 = false.\n",
    "- **`Bread and Cereals Expenditure`**: The household's total bread and cereals expenditure.\n",
    "- **`Total Rice Expenditure`**: The household's total rice expenditure.\n",
    "- **`Meat Expenditure`**: The household's total meat expenditure.\n",
    "- **`Total Fish and  marine products Expenditure`**: The household's total fish and marine products expenditure.\n",
    "- **`Fruit Expenditure`**: The household's total fruit expenditure.\n",
    "- **`Vegetables Expenditure`**: The household's total vegetable expenditure.\n",
    "- **`Restaurant and hotels Expenditure`**: The household's total restaurant and hotels expenditure.\n",
    "- **`Alcoholic Beverages Expenditure`**: The household's total alcoholic beverages expenditure.\n",
    "- **`Tobacco Expenditure`**: The household's total tobacco expenditure.\n",
    "- **`Clothing, Footwear and Other Wear Expenditure`**: The household's total clothing, footwear, and other wear expenditure.\n",
    "- **`Housing and water Expenditure`**: The household's total house rent and water expenditure.\n",
    "- **`Imputed House Rental Value`**: The rental value that the household would get from renting the home they occupy at market rates.\n",
    "- **`Medical Care Expenditure`**: The household's total medical care expenditure.\n",
    "- **`Transportation Expenditure`**: The household's total transportation expenditure.\n",
    "- **`Communication Expenditure `**: The household's total communication expenditure.\n",
    "- **`Education Expenditure`**: The household's total education expenditure.\n",
    "- **`Miscellaneous Goods and Services Expenditure`**: The household's total miscellaneous goods and services expenditure.\n",
    "- **`Special Occasions Expenditure`**: The household's total special occasions expenditure.\n",
    "- **`Crop Farming and Gardening expenses  `**: The household's total crop farming and gardening expenditure.\n",
    "- **`Total Income from Entrepreneurial Acitivites`**: The household's total income from entrepreneurial activities.\n",
    "- **`Household Head Sex`**: The sex of the household head.\n",
    "- **`Household Head Age`**: The age of the household head.\n",
    "- **`Household Head Marital Status`**: The marital status of the household head.\n",
    "- **`Household Head Highest Grade Completed`**: The highest grade completed of the household head.\n",
    "- **`Household Head Job or Business Indicator`**: Indicates the source of income of the household head.\n",
    "- **`Household Head Occupation`**: The occupation of the household head.\n",
    "- **`Household Head Class of Worker `**: The class of work of the household head.\n",
    "- **`Type of Household`**: The family structure of the household.\n",
    "- **`Total Number of Family members`**: Total number of family members living within the household.\n",
    "- **`Members with age less than 5 year old`**: Number of family members that are below 5 years old.\n",
    "- **`Members with age 5 - 17 years old`**: Number of family members that are within the age on five to seventeen years old.\n",
    "- **`Total number of family members employed`**: Number of family members that are currently employed and contributing to the household income.\n",
    "- **`Type of Building/House`**: The type of building/house of the household.\n",
    "- **`Type of Roof`**: The type of roof of the house of the household.\n",
    "- **`Type of Walls`**: The type of walls of the house of the household.\n",
    "- **`House Floor Area`**: The total floor area of the household's house.\n",
    "- **`House Age`**: The age of the household's house.\n",
    "- **`Number of bedrooms`**: The number of bedrooms in the household's house.\n",
    "- **`Tenure Status`**: The household's status of ownership on their house.\n",
    "- **`Toilet Facilities`**: The toilet facilities in the household's house\n",
    "- **`Electricity`**: Denotes whether a household has stable access to electricity.\n",
    "- **`Main Source of Water Supply`**: The main source of water supply of the household.\n",
    "- **`Number of Television`**: The number of television in the household's house.\n",
    "- **`Number of CD/VCD/DVD`**: The number of CD/VCD/DVD in the household's house.\n",
    "- **`Number of Component/Stereo set`**: The number of Component/Stereo set in the household's house.\n",
    "- **`Number of Refrigerator/Freezer`**: The number of refrigerator/freezer in the household's house.\n",
    "- **`Number of Washing Machine`**: The number of washing machine in the household's house.\n",
    "- **`Number of Airconditioner`**: The number of airconditioner in the household's house.\n",
    "- **`Number of Car, Jeep, Van`**: The number of car, jeep, and/or van of the household.\n",
    "- **`Number of Landline/wireless telephones`**: The number of landline/wireless telephones of the members of the household.\n",
    "- **`Number of Cellular phone`**: The number of cellular phone of the members of the household.\n",
    "- **`Number of Personal Computer`**: The number of personal computer/s of the members of the household.\n",
    "- **`Number of Stove with Oven/Gas Range`**: The number pf stove with oven/gas range of the household.\n",
    "- **`Number of Motorized Banca`**: The number of motorized banca of the household.\n",
    "- **`Number of Motorcycle/Tricycle`**: The number of motorcycle/tricycle of the household."
   ]
  },
  {
   "cell_type": "markdown",
   "metadata": {
    "cell_id": "00009-02596564-11bf-44da-9f9f-7bcd3f74f444",
    "deepnote_cell_type": "markdown",
    "tags": []
   },
   "source": [
    "## Exploratory Data Analysis\n",
    "\n",
    "To have a better understanding of the dataset, exploratory data analysis will be performed. As such, the following questions will be answered:\n",
    "1. What is the distribution of the income classes across the seventeen regions in the Philippines?\n",
    "2. What percentage of households per region has access to electricity?\n",
    "3. What is the average number of dependents based on their income class?\n"
   ]
  },
  {
   "cell_type": "markdown",
   "metadata": {
    "cell_id": "00011-49073ca5-1c5b-4966-9356-40b3c97c4390",
    "deepnote_cell_type": "markdown",
    "tags": []
   },
   "source": [
    "### Data Cleaning\n",
    "\n",
    "Before performing exploratory data analysis, we will first clean the data relevant to our analysis. Given the implications, we will use only the following variables:\n",
    "- **`Total Household Income`**: Total amount of money earned by every member of the single household.\n",
    "- **`Region`**: Region wherein the household resides.\n",
    "- **`Main Source of Income`**: The household's source of income wherein majority of their money is earned.\n",
    "- **`Total Number of Family Members`**: Total number of family members living within the household.\n",
    "- **`Members with age less than 5 years old`**: Number of family members that are below 5 years old.\n",
    "- **`Members with age 5-17 years old`**: Number of family members that are within the age on five to seventeen years old.\n",
    "- **`Total number of family members employed`**: Number of family members that are currently employed and contributing to the household income.\n",
    "- **`Electricity`**: Denotes whether a household has stable access to electricity."
   ]
  },
  {
   "cell_type": "markdown",
   "metadata": {
    "cell_id": "00010-c5023074-743f-4e13-9ec5-4c2d874623c3",
    "deepnote_cell_type": "markdown",
    "tags": []
   },
   "source": [
    "First, we will check if the variables to be used contains multiple representations of the same categorical value."
   ]
  },
  {
   "cell_type": "markdown",
   "metadata": {
    "cell_id": "00010-4dd558b6-42af-4e91-89c1-fe7243e49789",
    "deepnote_cell_type": "markdown",
    "tags": []
   },
   "source": [
    "#### `Region` variable\n",
    "\n",
    "According to the report, the survey aims to provide data of its seventeen (17) administrative regions. As such, we can expect that the values for the **`Region`** column are the following:\n",
    "- I – Ilocos Region\n",
    "- II – Cagayan Valley\n",
    "- III – Central Luzon\n",
    "- IVA – CALABARZON\n",
    "- IVB – MIMAROPA\n",
    "- V – Bicol Region\n",
    "- VI – Western Visayas\n",
    "- VII – Central Visayas\n",
    "- VIII – Eastern Visayas\n",
    "- IX – Zamboanga Peninsula\n",
    "- X – Northern Mindanao\n",
    "- XI – Davao Region\n",
    "- XII – SOCCSKSARGEN\n",
    "- XIII – Caraga\n",
    "- NCR\n",
    "- CAR\n",
    "- ARMM"
   ]
  },
  {
   "cell_type": "code",
   "execution_count": 28,
   "metadata": {
    "cell_id": "00011-34224697-df04-444c-a026-dad41c779269",
    "deepnote_cell_type": "code",
    "deepnote_to_be_reexecuted": false,
    "execution_millis": 13,
    "execution_start": 1629033423270,
    "source_hash": "92ec58fd",
    "tags": []
   },
   "outputs": [
    {
     "data": {
      "text/plain": [
       "array(['CAR', 'Caraga', 'VI - Western Visayas', 'V - Bicol Region',\n",
       "       ' ARMM', 'III - Central Luzon', 'II - Cagayan Valley',\n",
       "       'IVA - CALABARZON', 'VII - Central Visayas',\n",
       "       'X - Northern Mindanao', 'XI - Davao Region',\n",
       "       'VIII - Eastern Visayas', 'I - Ilocos Region', 'NCR',\n",
       "       'IVB - MIMAROPA', 'XII - SOCCSKSARGEN',\n",
       "       'IX - Zasmboanga Peninsula'], dtype=object)"
      ]
     },
     "execution_count": 28,
     "metadata": {},
     "output_type": "execute_result"
    }
   ],
   "source": [
    "family_df['Region'].unique()"
   ]
  },
  {
   "cell_type": "markdown",
   "metadata": {
    "cell_id": "00012-294bcbd5-3a64-4320-a26d-5e5f9a2b40ce",
    "deepnote_cell_type": "markdown",
    "tags": []
   },
   "source": [
    "We can see here that there are inconsistencies with the naming of some of the variables, and there is a spelling/encoding error for one of the regions, specifically **IX - Zasmboanga Peninsula**, which is supposed to be **IX - Zamboanga Peninsula**."
   ]
  },
  {
   "cell_type": "code",
   "execution_count": 29,
   "metadata": {
    "cell_id": "00012-81095d7c-63a4-4272-b3d0-e5c1bbcbe1e7",
    "deepnote_cell_type": "code",
    "deepnote_to_be_reexecuted": false,
    "execution_millis": 23,
    "execution_start": 1629033423280,
    "source_hash": "21475469",
    "tags": []
   },
   "outputs": [
    {
     "data": {
      "text/plain": [
       "array(['CAR', 'XIII - Caraga', 'VI - Western Visayas', 'V - Bicol Region',\n",
       "       'ARMM', 'III - Central Luzon', 'II - Cagayan Valley',\n",
       "       'IVA - CALABARZON', 'VII - Central Visayas',\n",
       "       'X - Northern Mindanao', 'XI - Davao Region',\n",
       "       'VIII - Eastern Visayas', 'I - Ilocos Region', 'NCR',\n",
       "       'IVB - MIMAROPA', 'XII - SOCCSKSARGEN', 'IX - Zamboanga Peninsula'],\n",
       "      dtype=object)"
      ]
     },
     "execution_count": 29,
     "metadata": {},
     "output_type": "execute_result"
    }
   ],
   "source": [
    "family_df['Region'] = family_df['Region'].replace({'Caraga' : 'XIII - Caraga'})\n",
    "family_df['Region'] = family_df['Region'].replace({'IX - Zasmboanga Peninsula' : 'IX - Zamboanga Peninsula'})\n",
    "family_df['Region'] = family_df['Region'].replace({' ARMM' : 'ARMM'})\n",
    "family_df['Region'].unique()"
   ]
  },
  {
   "cell_type": "markdown",
   "metadata": {
    "cell_id": "00014-a49c3ecd-144e-4dc5-8144-f8d76d3d43eb",
    "deepnote_cell_type": "markdown",
    "tags": []
   },
   "source": [
    "#### `Main Source of Income` variable"
   ]
  },
  {
   "cell_type": "code",
   "execution_count": 30,
   "metadata": {
    "cell_id": "00012-4bfeb69a-bb66-4387-a039-6445633d9872",
    "deepnote_cell_type": "code",
    "deepnote_to_be_reexecuted": false,
    "execution_millis": 11,
    "execution_start": 1629033423303,
    "source_hash": "dcb9c84c",
    "tags": []
   },
   "outputs": [
    {
     "data": {
      "text/plain": [
       "array(['Wage/Salaries', 'Other sources of Income',\n",
       "       'Enterpreneurial Activities'], dtype=object)"
      ]
     },
     "execution_count": 30,
     "metadata": {},
     "output_type": "execute_result"
    }
   ],
   "source": [
    "family_df['Main Source of Income'].unique()"
   ]
  },
  {
   "cell_type": "markdown",
   "metadata": {
    "cell_id": "00013-7cffe928-42a1-4679-9c39-082c41cb9d89",
    "deepnote_cell_type": "markdown",
    "tags": []
   },
   "source": [
    "We can see that there is a spelling/encoding error for the **Enterpreneurial Activities**. Instead, it should be **Entrepreneurial Activities**. Other than that, no other inconsistent values and spelling/encoding errors."
   ]
  },
  {
   "cell_type": "code",
   "execution_count": 31,
   "metadata": {
    "cell_id": "00017-0fe00b84-db95-424b-aea9-9cf266676fad",
    "deepnote_cell_type": "code",
    "deepnote_to_be_reexecuted": false,
    "execution_millis": 1,
    "execution_start": 1629033423343,
    "source_hash": "90cb123a",
    "tags": []
   },
   "outputs": [],
   "source": [
    "family_df['Main Source of Income'] = family_df['Main Source of Income'].replace({'Enterpreneurial Activities' : 'Entrepreneurial Activities'})"
   ]
  },
  {
   "cell_type": "markdown",
   "metadata": {
    "cell_id": "00017-16ffe309-8f3c-4fee-a226-b90ae4b07197",
    "deepnote_cell_type": "markdown",
    "tags": []
   },
   "source": [
    "#### `Electricity` variable"
   ]
  },
  {
   "cell_type": "code",
   "execution_count": 32,
   "metadata": {
    "cell_id": "00018-3709574d-a4b3-4c82-8353-6f56ce481017",
    "deepnote_cell_type": "code",
    "deepnote_to_be_reexecuted": false,
    "execution_millis": 9,
    "execution_start": 1629033423344,
    "source_hash": "a8790bc4",
    "tags": []
   },
   "outputs": [
    {
     "data": {
      "text/plain": [
       "array([1, 0], dtype=int64)"
      ]
     },
     "execution_count": 32,
     "metadata": {},
     "output_type": "execute_result"
    }
   ],
   "source": [
    "family_df['Electricity'].unique()"
   ]
  },
  {
   "cell_type": "markdown",
   "metadata": {
    "cell_id": "00019-13424f08-3896-444c-a6c2-43f7077d437b",
    "deepnote_cell_type": "markdown",
    "tags": []
   },
   "source": [
    "This variable denotes whether a household has stable access to electricity. Thus, the values are valid as 1 indicates that the household does have access to electricity, while 0 indicates that they do not."
   ]
  },
  {
   "cell_type": "markdown",
   "metadata": {
    "cell_id": "00015-7c556981-b6a7-4c1f-9e33-1ace3841586d",
    "deepnote_cell_type": "markdown",
    "tags": []
   },
   "source": [
    "#### Checking Data Types\n",
    "Next, we will check the data types of each of the variables."
   ]
  },
  {
   "cell_type": "code",
   "execution_count": 33,
   "metadata": {
    "cell_id": "00016-f51dc207-0dfc-48e7-98ad-4ce454179517",
    "deepnote_cell_type": "code",
    "deepnote_to_be_reexecuted": false,
    "execution_millis": 8,
    "execution_start": 1629033423345,
    "source_hash": "a21255b5",
    "tags": []
   },
   "outputs": [
    {
     "name": "stdout",
     "output_type": "stream",
     "text": [
      "<class 'pandas.core.frame.DataFrame'>\n",
      "RangeIndex: 41544 entries, 0 to 41543\n",
      "Data columns (total 8 columns):\n",
      " #   Column                                   Non-Null Count  Dtype \n",
      "---  ------                                   --------------  ----- \n",
      " 0   Total Household Income                   41544 non-null  int64 \n",
      " 1   Region                                   41544 non-null  object\n",
      " 2   Main Source of Income                    41544 non-null  object\n",
      " 3   Total Number of Family members           41544 non-null  int64 \n",
      " 4   Members with age less than 5 year old    41544 non-null  int64 \n",
      " 5   Members with age 5 - 17 years old        41544 non-null  int64 \n",
      " 6   Total number of family members employed  41544 non-null  int64 \n",
      " 7   Electricity                              41544 non-null  int64 \n",
      "dtypes: int64(6), object(2)\n",
      "memory usage: 2.5+ MB\n"
     ]
    }
   ],
   "source": [
    "subset_family_df = family_df[['Total Household Income', 'Region', 'Main Source of Income', 'Total Number of Family members', 'Members with age less than 5 year old', 'Members with age 5 - 17 years old', 'Total number of family members employed', 'Electricity']]\n",
    "\n",
    "subset_family_df.info()"
   ]
  },
  {
   "cell_type": "markdown",
   "metadata": {
    "cell_id": "00017-5439f785-8939-47c1-bbe4-6c760bf77213",
    "deepnote_cell_type": "markdown",
    "tags": []
   },
   "source": [
    "We can see that there are no incorrect data types for the variables. The Total Household Income are rough estimates of the households' income which is why it uses `int64` instead of `float`."
   ]
  },
  {
   "cell_type": "markdown",
   "metadata": {
    "cell_id": "00011-0e6ec7bc-3e26-4645-a25e-f7bd1577c163",
    "deepnote_cell_type": "markdown",
    "tags": []
   },
   "source": [
    "#### Checking for NaN/null values\n",
    "Next, we will check any of the variables contains any `NaN/null` values."
   ]
  },
  {
   "cell_type": "code",
   "execution_count": 34,
   "metadata": {
    "cell_id": "00009-e5f7ea2a-6b5a-4071-8945-45beee5adc74",
    "deepnote_cell_type": "code",
    "deepnote_to_be_reexecuted": false,
    "execution_millis": 50,
    "execution_start": 1629033423390,
    "source_hash": "e66a9fea",
    "tags": []
   },
   "outputs": [
    {
     "data": {
      "text/plain": [
       "Household Head Occupation         7536\n",
       "Household Head Class of Worker    7536\n",
       "dtype: int64"
      ]
     },
     "execution_count": 34,
     "metadata": {},
     "output_type": "execute_result"
    }
   ],
   "source": [
    "family_df.isnull().any()\n",
    "null_vars = family_df.columns[family_df.isnull().any()].tolist()\n",
    "family_df[null_vars].isnull().sum()"
   ]
  },
  {
   "cell_type": "markdown",
   "metadata": {
    "cell_id": "00012-df101c65-d0e4-4e12-96b8-bb1ce8f58d91",
    "deepnote_cell_type": "markdown",
    "tags": []
   },
   "source": [
    "We can see that none of the variables contain any **`Nan/null`** values."
   ]
  },
  {
   "cell_type": "markdown",
   "metadata": {
    "cell_id": "00021-469645a7-d1a5-422c-8965-5aa0fbd530d8",
    "deepnote_cell_type": "markdown",
    "tags": []
   },
   "source": [
    "#### Checking for duplicate values\n",
    "Lastly, we will check for duplicate observations and drop them from the dataset since each observation should represent only one household."
   ]
  },
  {
   "cell_type": "code",
   "execution_count": 35,
   "metadata": {
    "cell_id": "00021-4a3a2e7f-4811-464e-98fb-44e9f2fc5e6f",
    "deepnote_cell_type": "code",
    "deepnote_to_be_reexecuted": false,
    "execution_millis": 215,
    "execution_start": 1629033423436,
    "source_hash": "62efe46a",
    "tags": []
   },
   "outputs": [
    {
     "data": {
      "text/html": [
       "<div>\n",
       "<style scoped>\n",
       "    .dataframe tbody tr th:only-of-type {\n",
       "        vertical-align: middle;\n",
       "    }\n",
       "\n",
       "    .dataframe tbody tr th {\n",
       "        vertical-align: top;\n",
       "    }\n",
       "\n",
       "    .dataframe thead th {\n",
       "        text-align: right;\n",
       "    }\n",
       "</style>\n",
       "<table border=\"1\" class=\"dataframe\">\n",
       "  <thead>\n",
       "    <tr style=\"text-align: right;\">\n",
       "      <th></th>\n",
       "      <th>Total Household Income</th>\n",
       "      <th>Region</th>\n",
       "      <th>Total Food Expenditure</th>\n",
       "      <th>Main Source of Income</th>\n",
       "      <th>Agricultural Household indicator</th>\n",
       "      <th>Bread and Cereals Expenditure</th>\n",
       "      <th>Total Rice Expenditure</th>\n",
       "      <th>Meat Expenditure</th>\n",
       "      <th>Total Fish and  marine products Expenditure</th>\n",
       "      <th>Fruit Expenditure</th>\n",
       "      <th>...</th>\n",
       "      <th>Number of Refrigerator/Freezer</th>\n",
       "      <th>Number of Washing Machine</th>\n",
       "      <th>Number of Airconditioner</th>\n",
       "      <th>Number of Car, Jeep, Van</th>\n",
       "      <th>Number of Landline/wireless telephones</th>\n",
       "      <th>Number of Cellular phone</th>\n",
       "      <th>Number of Personal Computer</th>\n",
       "      <th>Number of Stove with Oven/Gas Range</th>\n",
       "      <th>Number of Motorized Banca</th>\n",
       "      <th>Number of Motorcycle/Tricycle</th>\n",
       "    </tr>\n",
       "  </thead>\n",
       "  <tbody>\n",
       "    <tr>\n",
       "      <th>0</th>\n",
       "      <td>480332</td>\n",
       "      <td>CAR</td>\n",
       "      <td>117848</td>\n",
       "      <td>Wage/Salaries</td>\n",
       "      <td>0</td>\n",
       "      <td>42140</td>\n",
       "      <td>38300</td>\n",
       "      <td>24676</td>\n",
       "      <td>16806</td>\n",
       "      <td>3325</td>\n",
       "      <td>...</td>\n",
       "      <td>1</td>\n",
       "      <td>1</td>\n",
       "      <td>0</td>\n",
       "      <td>0</td>\n",
       "      <td>0</td>\n",
       "      <td>2</td>\n",
       "      <td>1</td>\n",
       "      <td>0</td>\n",
       "      <td>0</td>\n",
       "      <td>1</td>\n",
       "    </tr>\n",
       "    <tr>\n",
       "      <th>1</th>\n",
       "      <td>198235</td>\n",
       "      <td>CAR</td>\n",
       "      <td>67766</td>\n",
       "      <td>Wage/Salaries</td>\n",
       "      <td>0</td>\n",
       "      <td>17329</td>\n",
       "      <td>13008</td>\n",
       "      <td>17434</td>\n",
       "      <td>11073</td>\n",
       "      <td>2035</td>\n",
       "      <td>...</td>\n",
       "      <td>0</td>\n",
       "      <td>1</td>\n",
       "      <td>0</td>\n",
       "      <td>0</td>\n",
       "      <td>0</td>\n",
       "      <td>3</td>\n",
       "      <td>1</td>\n",
       "      <td>0</td>\n",
       "      <td>0</td>\n",
       "      <td>2</td>\n",
       "    </tr>\n",
       "    <tr>\n",
       "      <th>2</th>\n",
       "      <td>82785</td>\n",
       "      <td>CAR</td>\n",
       "      <td>61609</td>\n",
       "      <td>Wage/Salaries</td>\n",
       "      <td>1</td>\n",
       "      <td>34182</td>\n",
       "      <td>32001</td>\n",
       "      <td>7783</td>\n",
       "      <td>2590</td>\n",
       "      <td>1730</td>\n",
       "      <td>...</td>\n",
       "      <td>0</td>\n",
       "      <td>0</td>\n",
       "      <td>0</td>\n",
       "      <td>0</td>\n",
       "      <td>0</td>\n",
       "      <td>0</td>\n",
       "      <td>0</td>\n",
       "      <td>0</td>\n",
       "      <td>0</td>\n",
       "      <td>0</td>\n",
       "    </tr>\n",
       "    <tr>\n",
       "      <th>3</th>\n",
       "      <td>107589</td>\n",
       "      <td>CAR</td>\n",
       "      <td>78189</td>\n",
       "      <td>Wage/Salaries</td>\n",
       "      <td>0</td>\n",
       "      <td>34030</td>\n",
       "      <td>28659</td>\n",
       "      <td>10914</td>\n",
       "      <td>10812</td>\n",
       "      <td>690</td>\n",
       "      <td>...</td>\n",
       "      <td>0</td>\n",
       "      <td>0</td>\n",
       "      <td>0</td>\n",
       "      <td>0</td>\n",
       "      <td>0</td>\n",
       "      <td>1</td>\n",
       "      <td>0</td>\n",
       "      <td>0</td>\n",
       "      <td>0</td>\n",
       "      <td>0</td>\n",
       "    </tr>\n",
       "    <tr>\n",
       "      <th>4</th>\n",
       "      <td>189322</td>\n",
       "      <td>CAR</td>\n",
       "      <td>94625</td>\n",
       "      <td>Wage/Salaries</td>\n",
       "      <td>0</td>\n",
       "      <td>34820</td>\n",
       "      <td>30167</td>\n",
       "      <td>18391</td>\n",
       "      <td>11309</td>\n",
       "      <td>1395</td>\n",
       "      <td>...</td>\n",
       "      <td>1</td>\n",
       "      <td>0</td>\n",
       "      <td>0</td>\n",
       "      <td>0</td>\n",
       "      <td>0</td>\n",
       "      <td>3</td>\n",
       "      <td>0</td>\n",
       "      <td>0</td>\n",
       "      <td>0</td>\n",
       "      <td>1</td>\n",
       "    </tr>\n",
       "    <tr>\n",
       "      <th>...</th>\n",
       "      <td>...</td>\n",
       "      <td>...</td>\n",
       "      <td>...</td>\n",
       "      <td>...</td>\n",
       "      <td>...</td>\n",
       "      <td>...</td>\n",
       "      <td>...</td>\n",
       "      <td>...</td>\n",
       "      <td>...</td>\n",
       "      <td>...</td>\n",
       "      <td>...</td>\n",
       "      <td>...</td>\n",
       "      <td>...</td>\n",
       "      <td>...</td>\n",
       "      <td>...</td>\n",
       "      <td>...</td>\n",
       "      <td>...</td>\n",
       "      <td>...</td>\n",
       "      <td>...</td>\n",
       "      <td>...</td>\n",
       "      <td>...</td>\n",
       "    </tr>\n",
       "    <tr>\n",
       "      <th>41539</th>\n",
       "      <td>119773</td>\n",
       "      <td>XII - SOCCSKSARGEN</td>\n",
       "      <td>44875</td>\n",
       "      <td>Entrepreneurial Activities</td>\n",
       "      <td>1</td>\n",
       "      <td>23675</td>\n",
       "      <td>21542</td>\n",
       "      <td>1476</td>\n",
       "      <td>6120</td>\n",
       "      <td>1632</td>\n",
       "      <td>...</td>\n",
       "      <td>0</td>\n",
       "      <td>0</td>\n",
       "      <td>0</td>\n",
       "      <td>0</td>\n",
       "      <td>0</td>\n",
       "      <td>1</td>\n",
       "      <td>0</td>\n",
       "      <td>0</td>\n",
       "      <td>0</td>\n",
       "      <td>0</td>\n",
       "    </tr>\n",
       "    <tr>\n",
       "      <th>41540</th>\n",
       "      <td>137320</td>\n",
       "      <td>XII - SOCCSKSARGEN</td>\n",
       "      <td>31157</td>\n",
       "      <td>Entrepreneurial Activities</td>\n",
       "      <td>1</td>\n",
       "      <td>2691</td>\n",
       "      <td>1273</td>\n",
       "      <td>1886</td>\n",
       "      <td>4386</td>\n",
       "      <td>1840</td>\n",
       "      <td>...</td>\n",
       "      <td>0</td>\n",
       "      <td>0</td>\n",
       "      <td>0</td>\n",
       "      <td>0</td>\n",
       "      <td>0</td>\n",
       "      <td>3</td>\n",
       "      <td>0</td>\n",
       "      <td>0</td>\n",
       "      <td>0</td>\n",
       "      <td>0</td>\n",
       "    </tr>\n",
       "    <tr>\n",
       "      <th>41541</th>\n",
       "      <td>133171</td>\n",
       "      <td>XII - SOCCSKSARGEN</td>\n",
       "      <td>45882</td>\n",
       "      <td>Entrepreneurial Activities</td>\n",
       "      <td>2</td>\n",
       "      <td>28646</td>\n",
       "      <td>27339</td>\n",
       "      <td>480</td>\n",
       "      <td>4796</td>\n",
       "      <td>1232</td>\n",
       "      <td>...</td>\n",
       "      <td>0</td>\n",
       "      <td>0</td>\n",
       "      <td>0</td>\n",
       "      <td>0</td>\n",
       "      <td>0</td>\n",
       "      <td>1</td>\n",
       "      <td>0</td>\n",
       "      <td>0</td>\n",
       "      <td>0</td>\n",
       "      <td>0</td>\n",
       "    </tr>\n",
       "    <tr>\n",
       "      <th>41542</th>\n",
       "      <td>129500</td>\n",
       "      <td>XII - SOCCSKSARGEN</td>\n",
       "      <td>81416</td>\n",
       "      <td>Entrepreneurial Activities</td>\n",
       "      <td>1</td>\n",
       "      <td>29996</td>\n",
       "      <td>26655</td>\n",
       "      <td>2359</td>\n",
       "      <td>17730</td>\n",
       "      <td>2923</td>\n",
       "      <td>...</td>\n",
       "      <td>0</td>\n",
       "      <td>0</td>\n",
       "      <td>0</td>\n",
       "      <td>0</td>\n",
       "      <td>0</td>\n",
       "      <td>2</td>\n",
       "      <td>0</td>\n",
       "      <td>0</td>\n",
       "      <td>0</td>\n",
       "      <td>0</td>\n",
       "    </tr>\n",
       "    <tr>\n",
       "      <th>41543</th>\n",
       "      <td>128598</td>\n",
       "      <td>XII - SOCCSKSARGEN</td>\n",
       "      <td>78195</td>\n",
       "      <td>Entrepreneurial Activities</td>\n",
       "      <td>1</td>\n",
       "      <td>43485</td>\n",
       "      <td>41205</td>\n",
       "      <td>1985</td>\n",
       "      <td>7735</td>\n",
       "      <td>2062</td>\n",
       "      <td>...</td>\n",
       "      <td>0</td>\n",
       "      <td>0</td>\n",
       "      <td>0</td>\n",
       "      <td>0</td>\n",
       "      <td>0</td>\n",
       "      <td>1</td>\n",
       "      <td>0</td>\n",
       "      <td>0</td>\n",
       "      <td>0</td>\n",
       "      <td>0</td>\n",
       "    </tr>\n",
       "  </tbody>\n",
       "</table>\n",
       "<p>41544 rows × 60 columns</p>\n",
       "</div>"
      ],
      "text/plain": [
       "       Total Household Income              Region  Total Food Expenditure  \\\n",
       "0                      480332                 CAR                  117848   \n",
       "1                      198235                 CAR                   67766   \n",
       "2                       82785                 CAR                   61609   \n",
       "3                      107589                 CAR                   78189   \n",
       "4                      189322                 CAR                   94625   \n",
       "...                       ...                 ...                     ...   \n",
       "41539                  119773  XII - SOCCSKSARGEN                   44875   \n",
       "41540                  137320  XII - SOCCSKSARGEN                   31157   \n",
       "41541                  133171  XII - SOCCSKSARGEN                   45882   \n",
       "41542                  129500  XII - SOCCSKSARGEN                   81416   \n",
       "41543                  128598  XII - SOCCSKSARGEN                   78195   \n",
       "\n",
       "            Main Source of Income  Agricultural Household indicator  \\\n",
       "0                   Wage/Salaries                                 0   \n",
       "1                   Wage/Salaries                                 0   \n",
       "2                   Wage/Salaries                                 1   \n",
       "3                   Wage/Salaries                                 0   \n",
       "4                   Wage/Salaries                                 0   \n",
       "...                           ...                               ...   \n",
       "41539  Entrepreneurial Activities                                 1   \n",
       "41540  Entrepreneurial Activities                                 1   \n",
       "41541  Entrepreneurial Activities                                 2   \n",
       "41542  Entrepreneurial Activities                                 1   \n",
       "41543  Entrepreneurial Activities                                 1   \n",
       "\n",
       "       Bread and Cereals Expenditure  Total Rice Expenditure  \\\n",
       "0                              42140                   38300   \n",
       "1                              17329                   13008   \n",
       "2                              34182                   32001   \n",
       "3                              34030                   28659   \n",
       "4                              34820                   30167   \n",
       "...                              ...                     ...   \n",
       "41539                          23675                   21542   \n",
       "41540                           2691                    1273   \n",
       "41541                          28646                   27339   \n",
       "41542                          29996                   26655   \n",
       "41543                          43485                   41205   \n",
       "\n",
       "       Meat Expenditure  Total Fish and  marine products Expenditure  \\\n",
       "0                 24676                                        16806   \n",
       "1                 17434                                        11073   \n",
       "2                  7783                                         2590   \n",
       "3                 10914                                        10812   \n",
       "4                 18391                                        11309   \n",
       "...                 ...                                          ...   \n",
       "41539              1476                                         6120   \n",
       "41540              1886                                         4386   \n",
       "41541               480                                         4796   \n",
       "41542              2359                                        17730   \n",
       "41543              1985                                         7735   \n",
       "\n",
       "       Fruit Expenditure  ...  Number of Refrigerator/Freezer  \\\n",
       "0                   3325  ...                               1   \n",
       "1                   2035  ...                               0   \n",
       "2                   1730  ...                               0   \n",
       "3                    690  ...                               0   \n",
       "4                   1395  ...                               1   \n",
       "...                  ...  ...                             ...   \n",
       "41539               1632  ...                               0   \n",
       "41540               1840  ...                               0   \n",
       "41541               1232  ...                               0   \n",
       "41542               2923  ...                               0   \n",
       "41543               2062  ...                               0   \n",
       "\n",
       "       Number of Washing Machine  Number of Airconditioner  \\\n",
       "0                              1                         0   \n",
       "1                              1                         0   \n",
       "2                              0                         0   \n",
       "3                              0                         0   \n",
       "4                              0                         0   \n",
       "...                          ...                       ...   \n",
       "41539                          0                         0   \n",
       "41540                          0                         0   \n",
       "41541                          0                         0   \n",
       "41542                          0                         0   \n",
       "41543                          0                         0   \n",
       "\n",
       "       Number of Car, Jeep, Van  Number of Landline/wireless telephones  \\\n",
       "0                             0                                       0   \n",
       "1                             0                                       0   \n",
       "2                             0                                       0   \n",
       "3                             0                                       0   \n",
       "4                             0                                       0   \n",
       "...                         ...                                     ...   \n",
       "41539                         0                                       0   \n",
       "41540                         0                                       0   \n",
       "41541                         0                                       0   \n",
       "41542                         0                                       0   \n",
       "41543                         0                                       0   \n",
       "\n",
       "       Number of Cellular phone  Number of Personal Computer  \\\n",
       "0                             2                            1   \n",
       "1                             3                            1   \n",
       "2                             0                            0   \n",
       "3                             1                            0   \n",
       "4                             3                            0   \n",
       "...                         ...                          ...   \n",
       "41539                         1                            0   \n",
       "41540                         3                            0   \n",
       "41541                         1                            0   \n",
       "41542                         2                            0   \n",
       "41543                         1                            0   \n",
       "\n",
       "       Number of Stove with Oven/Gas Range  Number of Motorized Banca  \\\n",
       "0                                        0                          0   \n",
       "1                                        0                          0   \n",
       "2                                        0                          0   \n",
       "3                                        0                          0   \n",
       "4                                        0                          0   \n",
       "...                                    ...                        ...   \n",
       "41539                                    0                          0   \n",
       "41540                                    0                          0   \n",
       "41541                                    0                          0   \n",
       "41542                                    0                          0   \n",
       "41543                                    0                          0   \n",
       "\n",
       "       Number of Motorcycle/Tricycle  \n",
       "0                                  1  \n",
       "1                                  2  \n",
       "2                                  0  \n",
       "3                                  0  \n",
       "4                                  1  \n",
       "...                              ...  \n",
       "41539                              0  \n",
       "41540                              0  \n",
       "41541                              0  \n",
       "41542                              0  \n",
       "41543                              0  \n",
       "\n",
       "[41544 rows x 60 columns]"
      ]
     },
     "execution_count": 35,
     "metadata": {},
     "output_type": "execute_result"
    }
   ],
   "source": [
    "family_df.drop_duplicates()"
   ]
  },
  {
   "cell_type": "markdown",
   "metadata": {
    "cell_id": "00023-633629f7-c17e-4b0f-b504-b23e787e5e7b",
    "deepnote_cell_type": "markdown",
    "tags": []
   },
   "source": [
    "We can see that there are no drops observations after calling the `drop_duplicates` functions. This means that there are no duplicates in the dataset."
   ]
  },
  {
   "cell_type": "markdown",
   "metadata": {
    "cell_id": "00014-0ec1cf4a-0ec4-401f-9502-65016866a792",
    "deepnote_cell_type": "markdown",
    "tags": []
   },
   "source": [
    "### Pre-processing Data\n",
    "\n",
    "Many of the questions are concerned with the different income clusters of the households. Hence, we create a new variable, **`Income Class`**, which identifies which income class the following household belongs to. As reference, we used the indicative range at 2015 prices established by the Philippine Institute of Developmental Studies (PIDS) since the survey was conducted at the year 2015. The income classes are as follows:\n",
    "- Poor: less than Php 9,100\n",
    "- Low-income class: Php 9,100 - Php 18,200\n",
    "- Lower middle-income class: Php 18,200 - Php 36,400\n",
    "- Middle middle-income class: Php 36,400 - Php 63,700\n",
    "- Upper middle-income class: Php 63,700 - Php 109,200\n",
    "- Upper income class: Php Php 109,000 - Php 182,000\n",
    "- Rich: Php 182,000 and above\n",
    "\n",
    "Source: https://pidswebs.pids.gov.ph/CDN/PUBLICATIONS/pidspn1818.pdf "
   ]
  },
  {
   "cell_type": "code",
   "execution_count": 36,
   "metadata": {
    "cell_id": "00014-30f03e4b-b688-40a5-827f-312f2d00b061",
    "deepnote_cell_type": "code",
    "deepnote_to_be_reexecuted": false,
    "execution_millis": 391,
    "execution_start": 1629033423694,
    "source_hash": "821ba4b4",
    "tags": []
   },
   "outputs": [],
   "source": [
    "def label_income (row):\n",
    "    income = row['Total Household Income'] / 12\n",
    "\n",
    "    if income < 9100 :\n",
    "        return 'Poor'\n",
    "    if income >= 9100 and income < 18200 :\n",
    "        return 'Low-income class'\n",
    "    if income >= 18200 and income < 36400 :\n",
    "        return 'Lower middle-income class'\n",
    "    if income >= 36400 and income < 63700 :\n",
    "        return 'Middle middle-income class'\n",
    "    if income >= 63700 and income < 109200 :\n",
    "        return 'Upper middle-income class'\n",
    "    if income >= 109000 and income < 182000 :\n",
    "        return 'Upper-income class'\n",
    "    if income > 182000 : \n",
    "        return 'Rich'\n",
    "\n",
    "family_df['Income Class'] = family_df.apply(lambda row: label_income(row), axis=1)"
   ]
  },
  {
   "cell_type": "markdown",
   "metadata": {
    "cell_id": "00032-8ff4847b-c000-476c-8b90-03209c21df95",
    "deepnote_cell_type": "markdown",
    "tags": []
   },
   "source": [
    "Next, we create subsets of the dataset according to each **`Region`** value since some questions are also concerned with data regarding each region."
   ]
  },
  {
   "cell_type": "code",
   "execution_count": 37,
   "metadata": {
    "cell_id": "00032-eab4d690-e58c-420e-b9d4-5ea9baf18c7f",
    "deepnote_cell_type": "code",
    "deepnote_to_be_reexecuted": false,
    "execution_millis": 60,
    "execution_start": 1629033424096,
    "source_hash": "c483ba6f",
    "tags": []
   },
   "outputs": [],
   "source": [
    "I_df = family_df[(family_df.Region == \"I - Ilocos Region\")]\n",
    "II_df = family_df[(family_df.Region == \"II - Cagayan Valley\")]\n",
    "III_df = family_df[(family_df.Region == \"III - Central Luzon\")]\n",
    "IVA_df = family_df[(family_df.Region == \"IVA - CALABARZON\")]\n",
    "IVB_df = family_df[(family_df.Region == \"IVB - MIMAROPA\")]\n",
    "V_df = family_df[(family_df.Region == \"V - Bicol Region\")]\n",
    "VI_df = family_df[(family_df.Region == \"VI - Western Visayas\")]\n",
    "VII_df = family_df[(family_df.Region == \"VII - Central Visayas\")]\n",
    "VIII_df = family_df[(family_df.Region == \"VIII - Eastern Visayas\")]\n",
    "IX_df = family_df[(family_df.Region == \"IX - Zamboanga Peninsula\")]\n",
    "X_df = family_df[(family_df.Region == \"X - Northern Mindanao\")]\n",
    "XI_df = family_df[(family_df.Region == \"XI - Davao Region\")]\n",
    "XII_df = family_df[(family_df.Region == \"XII - SOCCSKSARGEN\")]\n",
    "XIII_df = family_df[(family_df.Region == \"XIII - Caraga\")]\n",
    "NCR_df = family_df[(family_df.Region == \"NCR\")]\n",
    "CAR_df = family_df[(family_df.Region == \"CAR\")]\n",
    "ARMM_df = family_df[(family_df.Region == \"ARMM\")]"
   ]
  },
  {
   "cell_type": "markdown",
   "metadata": {
    "cell_id": "00010-6f7db42b-4b81-4d64-8eb7-4f5913e40d31",
    "deepnote_cell_type": "markdown",
    "tags": []
   },
   "source": [
    "### EDA Question 1\n",
    "\n",
    "What is the average total household income in each of the regions?\n",
    "\n",
    "For this question, we are only concerned with two variables, **`Total Household Income`** and **`Region`**."
   ]
  },
  {
   "cell_type": "markdown",
   "metadata": {
    "cell_id": "00035-94845a98-4ba5-49ae-a2c3-625f729d1fd8",
    "deepnote_cell_type": "markdown",
    "tags": []
   },
   "source": [
    "First, we will aggregate some summary statistics regarding the **`Total Household Income`** according to their respective **`Region`** to get a better idea of its distribution."
   ]
  },
  {
   "cell_type": "code",
   "execution_count": 38,
   "metadata": {
    "cell_id": "00039-8123c971-e591-438e-9f94-f70c74034812",
    "deepnote_cell_type": "code",
    "deepnote_to_be_reexecuted": false,
    "execution_millis": 29,
    "execution_start": 1629033424165,
    "source_hash": "1eaf8363",
    "tags": []
   },
   "outputs": [
    {
     "data": {
      "text/html": [
       "<div>\n",
       "<style scoped>\n",
       "    .dataframe tbody tr th:only-of-type {\n",
       "        vertical-align: middle;\n",
       "    }\n",
       "\n",
       "    .dataframe tbody tr th {\n",
       "        vertical-align: top;\n",
       "    }\n",
       "\n",
       "    .dataframe thead tr th {\n",
       "        text-align: left;\n",
       "    }\n",
       "\n",
       "    .dataframe thead tr:last-of-type th {\n",
       "        text-align: right;\n",
       "    }\n",
       "</style>\n",
       "<table border=\"1\" class=\"dataframe\">\n",
       "  <thead>\n",
       "    <tr>\n",
       "      <th></th>\n",
       "      <th colspan=\"2\" halign=\"left\">Total Household Income</th>\n",
       "    </tr>\n",
       "    <tr>\n",
       "      <th></th>\n",
       "      <th>mean</th>\n",
       "      <th>std</th>\n",
       "    </tr>\n",
       "    <tr>\n",
       "      <th>Region</th>\n",
       "      <th></th>\n",
       "      <th></th>\n",
       "    </tr>\n",
       "  </thead>\n",
       "  <tbody>\n",
       "    <tr>\n",
       "      <th>NCR</th>\n",
       "      <td>420861.861501</td>\n",
       "      <td>384485.672730</td>\n",
       "    </tr>\n",
       "    <tr>\n",
       "      <th>IVA - CALABARZON</th>\n",
       "      <td>303360.536040</td>\n",
       "      <td>281920.226795</td>\n",
       "    </tr>\n",
       "    <tr>\n",
       "      <th>III - Central Luzon</th>\n",
       "      <td>292965.181650</td>\n",
       "      <td>287715.808064</td>\n",
       "    </tr>\n",
       "    <tr>\n",
       "      <th>CAR</th>\n",
       "      <td>269540.484638</td>\n",
       "      <td>274564.165761</td>\n",
       "    </tr>\n",
       "    <tr>\n",
       "      <th>XI - Davao Region</th>\n",
       "      <td>238115.891251</td>\n",
       "      <td>270968.796285</td>\n",
       "    </tr>\n",
       "    <tr>\n",
       "      <th>I - Ilocos Region</th>\n",
       "      <td>238110.084327</td>\n",
       "      <td>223693.113888</td>\n",
       "    </tr>\n",
       "    <tr>\n",
       "      <th>II - Cagayan Valley</th>\n",
       "      <td>236778.221721</td>\n",
       "      <td>250914.087520</td>\n",
       "    </tr>\n",
       "    <tr>\n",
       "      <th>VII - Central Visayas</th>\n",
       "      <td>234909.314050</td>\n",
       "      <td>294259.866722</td>\n",
       "    </tr>\n",
       "    <tr>\n",
       "      <th>VI - Western Visayas</th>\n",
       "      <td>220481.260260</td>\n",
       "      <td>377507.309546</td>\n",
       "    </tr>\n",
       "    <tr>\n",
       "      <th>IVB - MIMAROPA</th>\n",
       "      <td>216685.124900</td>\n",
       "      <td>263207.197408</td>\n",
       "    </tr>\n",
       "    <tr>\n",
       "      <th>X - Northern Mindanao</th>\n",
       "      <td>214057.779544</td>\n",
       "      <td>232931.775563</td>\n",
       "    </tr>\n",
       "    <tr>\n",
       "      <th>XIII - Caraga</th>\n",
       "      <td>196907.376543</td>\n",
       "      <td>212894.383492</td>\n",
       "    </tr>\n",
       "    <tr>\n",
       "      <th>VIII - Eastern Visayas</th>\n",
       "      <td>196736.581087</td>\n",
       "      <td>309641.807015</td>\n",
       "    </tr>\n",
       "    <tr>\n",
       "      <th>IX - Zamboanga Peninsula</th>\n",
       "      <td>191000.908277</td>\n",
       "      <td>238229.274718</td>\n",
       "    </tr>\n",
       "    <tr>\n",
       "      <th>V - Bicol Region</th>\n",
       "      <td>186105.492718</td>\n",
       "      <td>177031.725827</td>\n",
       "    </tr>\n",
       "    <tr>\n",
       "      <th>XII - SOCCSKSARGEN</th>\n",
       "      <td>182984.802545</td>\n",
       "      <td>228231.071653</td>\n",
       "    </tr>\n",
       "    <tr>\n",
       "      <th>ARMM</th>\n",
       "      <td>134746.817616</td>\n",
       "      <td>95345.916686</td>\n",
       "    </tr>\n",
       "  </tbody>\n",
       "</table>\n",
       "</div>"
      ],
      "text/plain": [
       "                         Total Household Income               \n",
       "                                           mean            std\n",
       "Region                                                        \n",
       "NCR                               420861.861501  384485.672730\n",
       "IVA - CALABARZON                  303360.536040  281920.226795\n",
       "III - Central Luzon               292965.181650  287715.808064\n",
       "CAR                               269540.484638  274564.165761\n",
       "XI - Davao Region                 238115.891251  270968.796285\n",
       "I - Ilocos Region                 238110.084327  223693.113888\n",
       "II - Cagayan Valley               236778.221721  250914.087520\n",
       "VII - Central Visayas             234909.314050  294259.866722\n",
       "VI - Western Visayas              220481.260260  377507.309546\n",
       "IVB - MIMAROPA                    216685.124900  263207.197408\n",
       "X - Northern Mindanao             214057.779544  232931.775563\n",
       "XIII - Caraga                     196907.376543  212894.383492\n",
       "VIII - Eastern Visayas            196736.581087  309641.807015\n",
       "IX - Zamboanga Peninsula          191000.908277  238229.274718\n",
       "V - Bicol Region                  186105.492718  177031.725827\n",
       "XII - SOCCSKSARGEN                182984.802545  228231.071653\n",
       "ARMM                              134746.817616   95345.916686"
      ]
     },
     "execution_count": 38,
     "metadata": {},
     "output_type": "execute_result"
    }
   ],
   "source": [
    "income_agg = family_df.groupby(\"Region\").agg({\"Total Household Income\": [\"mean\", \"std\"]})\n",
    "income_agg.sort_values((\"Total Household Income\", \"mean\"), ascending=False)"
   ]
  },
  {
   "cell_type": "markdown",
   "metadata": {
    "cell_id": "00039-d9f8aaac-67c5-47f0-92c6-e9f7061fc612",
    "deepnote_cell_type": "markdown",
    "tags": []
   },
   "source": [
    "Next, we will visualize the average total household incomes into a bar graph to get a better view of their comparison."
   ]
  },
  {
   "cell_type": "code",
   "execution_count": 39,
   "metadata": {
    "cell_id": "00039-54b93d55-fa1d-4c6f-9fd5-c4cd4e17ef84",
    "deepnote_cell_type": "code",
    "deepnote_to_be_reexecuted": false,
    "execution_millis": 642,
    "execution_start": 1629033424196,
    "source_hash": "f84460f5",
    "tags": []
   },
   "outputs": [
    {
     "data": {
      "image/png": "[encoded data removed]",
      "text/plain": [
       "<Figure size 1440x720 with 1 Axes>"
      ]
     },
     "metadata": {
      "needs_background": "light"
     },
     "output_type": "display_data"
    }
   ],
   "source": [
    "regions_income_mean_agg = family_df.groupby(\"Region\").agg({\"Total Household Income\": [\"mean\", \"std\"]})\n",
    "regions_income_mean_agg\n",
    "regions = [\n",
    "       'I - Ilocos Region', \n",
    "       'II - Cagayan Valley', \n",
    "       'III - Central Luzon',\n",
    "       'IVA - CALABARZON', \n",
    "       'IVB - MIMAROPA', \n",
    "       'V - Bicol Region',\n",
    "       'VI - Western Visayas',\n",
    "       'VII - Central Visayas',\n",
    "       'VIII - Eastern Visayas', \n",
    "       'IX - Zamboanga Peninsula',\n",
    "       'X - Northern Mindanao', \n",
    "       'XI - Davao Region', \n",
    "       'XII - SOCCSKSARGEN',\n",
    "       'XIII - Caraga',\n",
    "       'NCR',\n",
    "       'CAR',\n",
    "       'ARMM'\n",
    "]\n",
    "\n",
    "regions_income_mean_agg.reindex(regions).plot.bar(figsize=(20,10))\n",
    "plt.xlabel('Region')\n",
    "plt.ylabel('Total Household Income')\n",
    "plt.title('Average Total Household Income per Region')\n",
    "plt.tight_layout()\n",
    "plt.xticks(rotation=90)\n",
    "plt.legend()\n",
    "plt.show()"
   ]
  },
  {
   "cell_type": "markdown",
   "metadata": {
    "cell_id": "00041-2b23d9a7-ef30-4315-89df-07b7b4ae9eee",
    "deepnote_cell_type": "markdown",
    "tags": []
   },
   "source": [
    "With the values presented in the graph, we can easily see that **NCR** has the highest average total household income, followed by **III - Central Luzon** and **VIA - CALABARZON**, respectively. According to the PIDS, urban households are predominantly middle income. On the other hand, among rural households, only a third are middle income, while three-fifths are low income. The middle class dominantly reside in these three aforementioned regions as these areas have wide access to manufacturing and commercial establishments. The \n",
    "predominance of the middle-income class in these three regions may be reason for their high average total household incomes compared to the other regions.\n",
    "\n",
    "However, it is important to note that the data is highly dispersed as seen in their corresponding standard deviations. Their standard deviations are nearly equiavalent to their respective means, if not, even much higher than their mean. Thus, the **`Total Household Income`** among different households has great variability."
   ]
  },
  {
   "cell_type": "markdown",
   "metadata": {
    "cell_id": "00011-354de0f0-5fcc-4c1b-a3a7-bd43c96c3f27",
    "deepnote_cell_type": "markdown",
    "tags": []
   },
   "source": [
    "### EDA Question 2\n",
    "What percentage of households per region has access to electricity?\n",
    "\n",
    "In particular, we're interested in the values found within the **`Region`** and **`Electricity`** variables."
   ]
  },
  {
   "cell_type": "markdown",
   "metadata": {
    "cell_id": "00029-669ca978-8fbc-41b5-b050-2dda5f8f913a",
    "deepnote_cell_type": "markdown",
    "tags": []
   },
   "source": [
    "Since the observations are already sorted into individual dataframes of their respective regions in the pre-processing, the next step would be obtaining the specific values we want to examine, that being the percentage of households within a given region that pay for electricity. "
   ]
  },
  {
   "cell_type": "code",
   "execution_count": 40,
   "metadata": {
    "cell_id": "00030-84c71b2f-ef6c-454d-8f24-0dbbb79f46a0",
    "deepnote_cell_type": "code",
    "deepnote_to_be_reexecuted": false,
    "execution_millis": 31,
    "execution_start": 1629033424840,
    "source_hash": "b9e5b00c",
    "tags": []
   },
   "outputs": [],
   "source": [
    "I_PCT = [(I_df['Electricity'].value_counts()/I_df['Electricity'].count())*100]\n",
    "II_PCT = [(II_df['Electricity'].value_counts()/II_df['Electricity'].count())*100]\n",
    "III_PCT = [(III_df['Electricity'].value_counts()/III_df['Electricity'].count())*100]\n",
    "IVA_PCT = [(IVA_df['Electricity'].value_counts()/IVA_df['Electricity'].count())*100]\n",
    "IVB_PCT = [(IVB_df['Electricity'].value_counts()/IVB_df['Electricity'].count())*100]\n",
    "V_PCT = [(V_df['Electricity'].value_counts()/V_df['Electricity'].count())*100]\n",
    "VI_PCT = [(VI_df['Electricity'].value_counts()/VI_df['Electricity'].count())*100]\n",
    "VII_PCT = [(VII_df['Electricity'].value_counts()/VII_df['Electricity'].count())*100]\n",
    "VIII_PCT = [(VIII_df['Electricity'].value_counts()/VIII_df['Electricity'].count())*100]\n",
    "IX_PCT = [(IX_df['Electricity'].value_counts()/IX_df['Electricity'].count())*100]\n",
    "X_PCT = [(X_df['Electricity'].value_counts()/X_df['Electricity'].count())*100]\n",
    "XI_PCT = [(XI_df['Electricity'].value_counts()/XI_df['Electricity'].count())*100]\n",
    "XII_PCT = [(XII_df['Electricity'].value_counts()/XII_df['Electricity'].count())*100]\n",
    "XIII_PCT = [(XIII_df['Electricity'].value_counts()/XIII_df['Electricity'].count())*100]\n",
    "NCR_PCT = [(NCR_df['Electricity'].value_counts()/NCR_df['Electricity'].count())*100]\n",
    "CAR_PCT = [(CAR_df['Electricity'].value_counts()/CAR_df['Electricity'].count())*100]\n",
    "ARMM_PCT = [(ARMM_df['Electricity'].value_counts()/ARMM_df['Electricity'].count())*100]\n",
    "\n",
    "I_PCT = [95.698467,4.301533]\n",
    "II_PCT = [94.727355,5.272645]\n",
    "III_PCT = [97.343219,2.656781]\n",
    "IVA_PCT = [96.756367,3.243633]\n",
    "IVB_PCT = [85.588471,14.411529]\n",
    "V_PCT = [88.106796,11.893204]\n",
    "VI_PCT = [88.214662,11.785338]\n",
    "VII_PCT = [88.036206,11.963794]\n",
    "VIII_PCT = [86.14, 13.86]\n",
    "IX_PCT = [80.816555,19.183445]\n",
    "X_PCT = [86.38,13.62]\n",
    "XI_PCT = [87.12,12.88]\n",
    "XII_PCT = [82.893497,17.106503]\n",
    "XIII_PCT = [90.97,9.03]\n",
    "NCR_PCT = [98.886199,1.113801]\n",
    "CAR_PCT = [92.521739,7.478261]\n",
    "ARMM_PCT = [53.514235,46.485765]"
   ]
  },
  {
   "cell_type": "markdown",
   "metadata": {
    "cell_id": "00031-da08218c-32a3-4256-8efe-624e0bbc99bd",
    "deepnote_cell_type": "markdown",
    "tags": []
   },
   "source": [
    "With the values determined and stored, we can now easily create a bar plot that will represent these and allow us to visualize the differences."
   ]
  },
  {
   "cell_type": "code",
   "execution_count": 41,
   "metadata": {
    "cell_id": "00032-9a2042b3-36c0-4dfb-a410-f764ec781818",
    "deepnote_cell_type": "code",
    "deepnote_to_be_reexecuted": false,
    "execution_millis": 455,
    "execution_start": 1629033424872,
    "source_hash": "2c283366",
    "tags": []
   },
   "outputs": [
    {
     "data": {
      "image/png": "[encoded data removed]",
      "text/plain": [
       "<Figure size 1080x360 with 1 Axes>"
      ]
     },
     "metadata": {
      "needs_background": "light"
     },
     "output_type": "display_data"
    }
   ],
   "source": [
    "fig = plt.figure(figsize=(15,5))\n",
    "bar_width = 0.35\n",
    "\n",
    "dat_pos_perc = {\n",
    "    'I':95.698467,'II':94.727355, 'III':97.343219, \n",
    "    'IVA':96.756367, 'IVB':85.588471, 'V':88.106796, \n",
    "    'VI':88.214662,'VII':88.036206, 'VIII':86.14,\n",
    "    'IX':80.816555,'X':86.38,'XI':87.12,\n",
    "    'XII':82.893497,'XIII':90.97, \n",
    "    'NCR':98.886199,'CAR':92.521739,  'ARMM':53.514235\n",
    "}\n",
    "\n",
    "dat_neg_perc = {\n",
    "    'I':4.301533,'II':5.272645, 'III':2.656781, \n",
    "    'IVA':3.243633, 'IVB':14.411529, 'V':11.893204, \n",
    "    'VI':11.785338,'VII':11.963794, 'VIII':13.86,\n",
    "    'IX':19.183445,'X':13.62,'XI':12.88,\n",
    "    'XII':17.106503,'XIII':9.03, \n",
    "    'NCR':1.113801,'CAR':7.478261,  'ARMM':46.485765\n",
    "}\n",
    "\n",
    "present = list(dat_pos_perc.values())\n",
    "notPresent = list(dat_neg_perc.values())\n",
    "regions = list(dat_pos_perc.keys())\n",
    "\n",
    "\n",
    "p1 = plt.bar(regions, present, color = '#7AA9BF', width=0.4, label='Present')\n",
    "p2 = plt.bar(regions, notPresent, color =\"#225564\", width=0.4, label = 'Not Present')\n",
    "\n",
    "plt.xlabel('Electricity Presence')\n",
    "plt.ylabel('Percentage within Region')\n",
    "plt.title('Presence of electricity within households of a region')\n",
    "plt.tight_layout()\n",
    "plt.legend()\n",
    "plt.show()"
   ]
  },
  {
   "cell_type": "markdown",
   "metadata": {
    "cell_id": "00039-03c7e660-b4cf-4ac8-be30-6aac5de396b2",
    "deepnote_cell_type": "markdown",
    "tags": []
   },
   "source": [
    "With the values represented, we can see that most regions have a high percentage of housholds that utilize and pay for electricity. While there is a \"outlier\" in the data from ARMM, one could understand the reason by this through a cursory look into the current situation of the region ARMM in relation with the rest of the Philippines and its power structure. "
   ]
  },
  {
   "cell_type": "markdown",
   "metadata": {
    "cell_id": "00012-88ef1f93-88e5-4352-b701-f6e1c4e295ad",
    "deepnote_cell_type": "markdown",
    "tags": []
   },
   "source": [
    "### EDA Question 3\n",
    "\n",
    "What is the average number of dependents based on their income class? \n",
    "\n",
    "To answer this, first, we'll have to get the total number of dependents per household. Dependents are those household members who are below the age of 18 which is why we'll be adding two variables from the dataset namely, **Members with age less than 5 year old** and **Members with age 5 - 17 years old**. The sum of these two variables will be put into a new variable named **`Total Number of Dependents`**."
   ]
  },
  {
   "cell_type": "code",
   "execution_count": 42,
   "metadata": {
    "cell_id": "00047-e1fd3336-4153-4a08-86a1-c9e5540109ac",
    "deepnote_cell_type": "code",
    "deepnote_to_be_reexecuted": false,
    "execution_millis": 2,
    "execution_start": 1629033425317,
    "source_hash": "c7b21495",
    "tags": []
   },
   "outputs": [],
   "source": [
    "dependent_column = family_df[\"Members with age less than 5 year old\"] + family_df[\"Members with age 5 - 17 years old\"]\n",
    "family_df[\"Total Number of Dependents\"] = dependent_column"
   ]
  },
  {
   "cell_type": "markdown",
   "metadata": {
    "cell_id": "00048-dca304f0-6a6e-4e14-b988-96dffdae3cf2",
    "deepnote_cell_type": "markdown",
    "tags": []
   },
   "source": [
    "Second, we'll be getting the mean of the total number of dependents per income class, and showing its result by using both numerical summary and visualization. To accomplish this, first, we'll be getting the mean of the total number of dependents per income class."
   ]
  },
  {
   "cell_type": "code",
   "execution_count": 43,
   "metadata": {
    "cell_id": "00048-56ddc7c0-c657-4127-b4c5-decc713f02dc",
    "deepnote_cell_type": "code",
    "deepnote_to_be_reexecuted": false,
    "execution_millis": 19,
    "execution_start": 1629033425324,
    "source_hash": "dd1e803b",
    "tags": []
   },
   "outputs": [
    {
     "name": "stdout",
     "output_type": "stream",
     "text": [
      "                           Total Number of Dependents\n",
      "                                                 mean\n",
      "Income Class                                         \n",
      "Low-income class                             2.011920\n",
      "Lower middle-income class                    1.735294\n",
      "Middle middle-income class                   1.569153\n",
      "Poor                                         1.606587\n",
      "Rich                                         1.051546\n",
      "Upper middle-income class                    1.405428\n",
      "Upper-income class                           1.321311\n"
     ]
    }
   ],
   "source": [
    "dependent_stat = family_df.groupby('Income Class').agg({'Total Number of Dependents': ['mean']})\n",
    "print(dependent_stat)"
   ]
  },
  {
   "cell_type": "markdown",
   "metadata": {
    "cell_id": "00050-e05a0a3b-953d-4d6a-9c71-6a03cdc1378a",
    "deepnote_cell_type": "markdown",
    "tags": []
   },
   "source": [
    "Lastly, to have a better visualization of the difference in means, we'll be using a bar graph."
   ]
  },
  {
   "cell_type": "code",
   "execution_count": 44,
   "metadata": {
    "cell_id": "00049-fa5d2226-9e79-4765-8e0a-d20e05d8a694",
    "deepnote_cell_type": "code",
    "deepnote_to_be_reexecuted": false,
    "execution_millis": 314,
    "execution_start": 1629033425349,
    "source_hash": "97edad58",
    "tags": []
   },
   "outputs": [
    {
     "data": {
      "image/png": "[encoded data removed]",
      "text/plain": [
       "<Figure size 1440x720 with 1 Axes>"
      ]
     },
     "metadata": {
      "needs_background": "light"
     },
     "output_type": "display_data"
    }
   ],
   "source": [
    "income_classes = [\n",
    "    'Poor',\n",
    "    'Low-income class',\n",
    "    'Lower middle-income class',\n",
    "    'Middle middle-income class',\n",
    "    'Upper middle-income class',\n",
    "    'Upper-income class',\n",
    "    'Rich'\n",
    "]\n",
    "\n",
    "dependent_stat.reindex(income_classes).plot.bar(figsize=(20,10))\n",
    "plt.xticks(rotation=0)\n",
    "plt.xlabel(\"Income Classes in the Philippines\")\n",
    "plt.ylabel(\"Total Number of Dependents per Household\")\n",
    "plt.title(\"Statistics on the Number of Dependents per Income Class in the Philippines\")\n",
    "plt.show()"
   ]
  },
  {
   "cell_type": "markdown",
   "metadata": {
    "cell_id": "00053-1b95da1f-98c9-4eca-92d0-7c84f27935ce",
    "deepnote_cell_type": "markdown",
    "tags": []
   },
   "source": [
    "Based on the summary, the mean of the number of dependents per income class are the following:\n",
    "- Poor: 1.61\n",
    "- Low-income class: 2.01\n",
    "- Lower middle-income class: 1.74\n",
    "- Middle middle-income class: 1.57\n",
    "- Upper middle-income class: 1.41\n",
    "- Upper income class: 1.32\n",
    "- Rich class: 1.05\n",
    "\n",
    "After grouping the households into different income classes and computing for the mean of their total number of dependents, it can be seen that the mean of the total number of dependents per income class are close to each other. Although one eye-catching result was the rich class having the lowest mean of dependents, and the low-income class having the highest mean of dependents. Despite earning the highest income, households coming from the rich class are actually feeding less mouths than those coming from lower classes. Additionally, another noticeable difference is that the higher the income class, the lower the mean of their total number of dependents."
   ]
  },
  {
   "cell_type": "markdown",
   "metadata": {
    "cell_id": "00011-9e9e9132-ca98-458f-b544-8b63cc52d523",
    "deepnote_cell_type": "markdown",
    "tags": []
   },
   "source": [
    "## Research Questions\n",
    "\n",
    "This research aims to answer the following questions:\n",
    "1. Is there a significant difference in the average of the total income of households whose main income is via wages/salaries compared to those via entrepreneurial activities?\n",
    "2. Is there a significant difference on the access to electricity among households from different regions?"
   ]
  },
  {
   "cell_type": "markdown",
   "metadata": {
    "cell_id": "00014-5dff4e3d-bb4d-4475-b15a-0c43ef3eedbc",
    "deepnote_cell_type": "markdown",
    "tags": []
   },
   "source": [
    "### Research Question 1\n",
    "\n",
    "This part of the notebook aims to answer the first research question which is, **\"Is there a significant difference in the average of the total income of households whose main income is via wages/salaries compared to those via entrepreneurial activities?\"** This question is answerable by statistical inference on means, and the variables that will be used are the following:\n",
    "\n",
    "- **`Total Household Income`**: Total amount of money earned by every member of the single household.\n",
    "- **`Main Source of Income`**: The household's source of income wherein majority of their money is earned.\n",
    "\n",
    "This research question will focus on two distinct values under the variable **`Main Source of Income`** which are the following:\n",
    "\n",
    "- **Wage/Salaries**: This refers to households whose main source of income comes from working in a company or organization.\n",
    "- **Entrepreneurial Activities**: This refers to households whose main source of income comes from entrepreneurial activities."
   ]
  },
  {
   "cell_type": "markdown",
   "metadata": {
    "cell_id": "00062-8d3ccb51-c4c8-401e-8328-2d2db61e9b0b",
    "deepnote_cell_type": "markdown",
    "tags": []
   },
   "source": [
    "#### T-Test Comparing the Main Sources of Income\n",
    "\n",
    "We set up our hypotheses as follows:\n",
    "\n",
    "**$H_0$ (null hypothesis)**: There is no significant difference in the averages of the total income between households whose main income is via wage/salaries and households whose main income is via entrepreneurial activities.\n",
    "\n",
    "\n",
    "**$H_A$ (alternative hypothesis)**: There is a significant difference in the averages of the total income between households whose main income is via wage/salaries and households whose main income is via entrepreneurial activities."
   ]
  },
  {
   "cell_type": "markdown",
   "metadata": {
    "cell_id": "00062-689d646a-cea6-4719-b99a-9fc849fbb8a2",
    "deepnote_cell_type": "markdown",
    "tags": []
   },
   "source": [
    "The difference in the averages between the total income between households whose main income is via **wage/salaries and households** whose main income is via **entrepreneurial activities** are as follows:"
   ]
  },
  {
   "cell_type": "code",
   "execution_count": 45,
   "metadata": {
    "cell_id": "00062-c455aa2e-b08f-4f01-bf54-e172343b297c",
    "deepnote_cell_type": "code",
    "deepnote_to_be_reexecuted": false,
    "execution_millis": 23,
    "execution_start": 1629033425658,
    "source_hash": "474f2071",
    "tags": []
   },
   "outputs": [
    {
     "name": "stdout",
     "output_type": "stream",
     "text": [
      "53930.57\n"
     ]
    }
   ],
   "source": [
    "summary_stat = family_df.groupby(\"Main Source of Income\").agg({\"Total Household Income\": [\"mean\", \"median\", \"std\", len]})\n",
    "summary_stat\n",
    "\n",
    "wage_mean = summary_stat.loc[\"Wage/Salaries\"].loc[\"Total Household Income\"].loc[\"mean\"]\n",
    "entrep_mean = summary_stat.loc[\"Entrepreneurial Activities\"].loc[\"Total Household Income\"].loc[\"mean\"]\n",
    "\n",
    "diff = wage_mean - entrep_mean\n",
    "print('{:.2f}'.format(diff))"
   ]
  },
  {
   "cell_type": "markdown",
   "metadata": {
    "cell_id": "00059-a52b48ae-6381-4760-a17a-943b9ab56f66",
    "deepnote_cell_type": "markdown",
    "tags": []
   },
   "source": [
    "The difference between the means is **Php 53,930.57**\n",
    "\n",
    "Now, we will test if this difference is statistically significant by using the **t-test** to compare the average total household income of the two main sources of income in question.\n",
    "\n",
    "The **significance level (α)** that will be used for the test is **5% or 0.05**."
   ]
  },
  {
   "cell_type": "code",
   "execution_count": 46,
   "metadata": {
    "cell_id": "00067-2f326b4b-1731-4f4b-a1b7-cde889f2ba17",
    "deepnote_cell_type": "code",
    "deepnote_to_be_reexecuted": false,
    "execution_millis": 32,
    "execution_start": 1629033425691,
    "source_hash": "b00e987c",
    "tags": []
   },
   "outputs": [
    {
     "data": {
      "text/plain": [
       "Ttest_indResult(statistic=15.064282810075762, pvalue=5.893458809099433e-51)"
      ]
     },
     "execution_count": 46,
     "metadata": {},
     "output_type": "execute_result"
    }
   ],
   "source": [
    "ttest_ind(family_df[family_df[\"Main Source of Income\"] == \"Wage/Salaries\"][\"Total Household Income\"],\n",
    "          family_df[family_df[\"Main Source of Income\"] == \"Entrepreneurial Activities\"][\"Total Household Income\"],\n",
    "          equal_var = False)"
   ]
  },
  {
   "cell_type": "markdown",
   "metadata": {
    "cell_id": "00066-7f3c610a-c244-4da4-9567-6711fcb209c1",
    "deepnote_cell_type": "markdown",
    "tags": []
   },
   "source": [
    "#### Insights and Conclusion\n",
    "\n",
    "Given the data from the table, the t-test function above was able to compute the following values (rounded off to 2nd decimal place):\n",
    "\n",
    "* **Test Statistic**: 15.06\n",
    "\n",
    "* **P-Value**: 0.00\n",
    "\n",
    "With the p-value of **0.00** being less than the significance level of **0.05**, the conclusion our group had reached was to **reject the null hypothesis**, suggesting that there is a statistical difference between the average total income between households whose main income is via wage/salaries and households whose main income is via entrepreneurial activities. \n",
    "\n",
    "This information provides a better understanding for households examining options for sources of income they may work towards. In consideration of the range of responses that could be found within the **Other sources of Income** category, the group had chosen to compare only wage/salaries and entrepreneurial activities as they were the more conventional sources of income. Understanding the difference is vital to understanding the risks in choosing sources of income for a household. However, we still need to consider that there are many factors in choosing a source of income. There may be outliers such as people with different circumstances like those earning very low or very high incomes."
   ]
  },
  {
   "cell_type": "markdown",
   "metadata": {
    "cell_id": "00015-08135861-af14-4e73-aad0-c47f4ed0b29a",
    "deepnote_cell_type": "markdown",
    "tags": []
   },
   "source": [
    "### Research Question 2\n",
    "\n",
    "The second research question which is, **\"Is there a significant difference on the access to electricity among households from different regions?\"**, will be disccussed. This question is answerable by statistical inference on categorical data, and the variables that will be used are the following:\n",
    "\n",
    "- **`Region`**: Denotes which region in the Philippines the household is located in.\n",
    "- **`Electricity`**: Denotes whether a household has stable access to electricity; 1 = true, 0 = false."
   ]
  },
  {
   "cell_type": "markdown",
   "metadata": {
    "cell_id": "00069-ff7169bc-6455-44f2-a0ac-1259bdf409ac",
    "deepnote_cell_type": "markdown",
    "tags": []
   },
   "source": [
    "#### Chi-Square Test\n",
    "\n",
    "We set up our hypotheses as follows:\n",
    "\n",
    "**$H_0$ (null hypothesis)**: There is no significant difference on the access to electricity among households from different regions.\n",
    "\n",
    "**$H_A$ (alternative hypothesis)**: There is a significant difference on the access to electricity among households from different regions."
   ]
  },
  {
   "cell_type": "markdown",
   "metadata": {
    "cell_id": "00073-99600db7-e1f4-4c32-9e6a-e31d60b5074f",
    "deepnote_cell_type": "markdown",
    "tags": []
   },
   "source": [
    "\n",
    "\n",
    "To see if there is a significant difference on the access to electricity among households from different regions, we'll be performing a **Chi-Square Test** on the variables, **`Total Household Income`** and **`Electricity`**. \n",
    "\n",
    "The **significance level (α)** that will be used for the test is **5% or 0.05**.\n",
    "\n",
    "First, we will be getting the number of households who has access to electricity based on their region."
   ]
  },
  {
   "cell_type": "code",
   "execution_count": 47,
   "metadata": {
    "cell_id": "00073-3d10f86c-8337-48cb-9cee-59229bb89d37",
    "deepnote_cell_type": "code",
    "deepnote_to_be_reexecuted": false,
    "execution_millis": 17,
    "execution_start": 1629033425720,
    "source_hash": "f0802ef1",
    "tags": []
   },
   "outputs": [
    {
     "data": {
      "text/plain": [
       "Electricity  Region                  \n",
       "0            ARMM                        1045\n",
       "             XII - SOCCSKSARGEN           363\n",
       "             IX - Zamboanga Peninsula     343\n",
       "             VI - Western Visayas         336\n",
       "             VIII - Eastern Visayas       324\n",
       "             XI - Davao Region            315\n",
       "             VII - Central Visayas        304\n",
       "             V - Bicol Region             294\n",
       "             X - Northern Mindanao        257\n",
       "             IVB - MIMAROPA               180\n",
       "             XIII - Caraga                161\n",
       "             IVA - CALABARZON             135\n",
       "             CAR                          129\n",
       "             II - Cagayan Valley          117\n",
       "             I - Ilocos Region            101\n",
       "             III - Central Luzon           86\n",
       "             NCR                           46\n",
       "1            NCR                         4084\n",
       "             IVA - CALABARZON            4027\n",
       "             III - Central Luzon         3151\n",
       "             VI - Western Visayas        2515\n",
       "             I - Ilocos Region           2247\n",
       "             VII - Central Visayas       2237\n",
       "             V - Bicol Region            2178\n",
       "             XI - Davao Region           2131\n",
       "             II - Cagayan Valley         2102\n",
       "             VIII - Eastern Visayas      2013\n",
       "             XII - SOCCSKSARGEN          1759\n",
       "             X - Northern Mindanao       1630\n",
       "             XIII - Caraga               1621\n",
       "             CAR                         1596\n",
       "             IX - Zamboanga Peninsula    1445\n",
       "             ARMM                        1203\n",
       "             IVB - MIMAROPA              1069\n",
       "Name: Region, dtype: int64"
      ]
     },
     "execution_count": 47,
     "metadata": {},
     "output_type": "execute_result"
    }
   ],
   "source": [
    "counts = family_df.groupby(\"Electricity\")[\"Region\"].value_counts()\n",
    "counts"
   ]
  },
  {
   "cell_type": "markdown",
   "metadata": {
    "cell_id": "00074-cdf6a207-a495-4b8b-b3ae-aecd42b57500",
    "deepnote_cell_type": "markdown",
    "tags": []
   },
   "source": [
    "Then, we will be performing statistical inference by using a Chi-Square Test. "
   ]
  },
  {
   "cell_type": "code",
   "execution_count": 48,
   "metadata": {
    "cell_id": "00074-a8c20215-783c-44e6-bc2a-5f0be2349484",
    "deepnote_cell_type": "code",
    "deepnote_to_be_reexecuted": false,
    "execution_millis": 11,
    "execution_start": 1629033425748,
    "source_hash": "de5ad86b",
    "tags": []
   },
   "outputs": [
    {
     "data": {
      "text/html": [
       "<div>\n",
       "<style scoped>\n",
       "    .dataframe tbody tr th:only-of-type {\n",
       "        vertical-align: middle;\n",
       "    }\n",
       "\n",
       "    .dataframe tbody tr th {\n",
       "        vertical-align: top;\n",
       "    }\n",
       "\n",
       "    .dataframe thead th {\n",
       "        text-align: right;\n",
       "    }\n",
       "</style>\n",
       "<table border=\"1\" class=\"dataframe\">\n",
       "  <thead>\n",
       "    <tr style=\"text-align: right;\">\n",
       "      <th></th>\n",
       "      <th>no electricity</th>\n",
       "      <th>electricity</th>\n",
       "    </tr>\n",
       "    <tr>\n",
       "      <th>Region</th>\n",
       "      <th></th>\n",
       "      <th></th>\n",
       "    </tr>\n",
       "  </thead>\n",
       "  <tbody>\n",
       "    <tr>\n",
       "      <th>ARMM</th>\n",
       "      <td>1045</td>\n",
       "      <td>1203</td>\n",
       "    </tr>\n",
       "    <tr>\n",
       "      <th>XII - SOCCSKSARGEN</th>\n",
       "      <td>363</td>\n",
       "      <td>1759</td>\n",
       "    </tr>\n",
       "    <tr>\n",
       "      <th>IX - Zamboanga Peninsula</th>\n",
       "      <td>343</td>\n",
       "      <td>1445</td>\n",
       "    </tr>\n",
       "    <tr>\n",
       "      <th>VI - Western Visayas</th>\n",
       "      <td>336</td>\n",
       "      <td>2515</td>\n",
       "    </tr>\n",
       "    <tr>\n",
       "      <th>VIII - Eastern Visayas</th>\n",
       "      <td>324</td>\n",
       "      <td>2013</td>\n",
       "    </tr>\n",
       "    <tr>\n",
       "      <th>XI - Davao Region</th>\n",
       "      <td>315</td>\n",
       "      <td>2131</td>\n",
       "    </tr>\n",
       "    <tr>\n",
       "      <th>VII - Central Visayas</th>\n",
       "      <td>304</td>\n",
       "      <td>2237</td>\n",
       "    </tr>\n",
       "    <tr>\n",
       "      <th>V - Bicol Region</th>\n",
       "      <td>294</td>\n",
       "      <td>2178</td>\n",
       "    </tr>\n",
       "    <tr>\n",
       "      <th>X - Northern Mindanao</th>\n",
       "      <td>257</td>\n",
       "      <td>1630</td>\n",
       "    </tr>\n",
       "    <tr>\n",
       "      <th>IVB - MIMAROPA</th>\n",
       "      <td>180</td>\n",
       "      <td>1069</td>\n",
       "    </tr>\n",
       "    <tr>\n",
       "      <th>XIII - Caraga</th>\n",
       "      <td>161</td>\n",
       "      <td>1621</td>\n",
       "    </tr>\n",
       "    <tr>\n",
       "      <th>IVA - CALABARZON</th>\n",
       "      <td>135</td>\n",
       "      <td>4027</td>\n",
       "    </tr>\n",
       "    <tr>\n",
       "      <th>CAR</th>\n",
       "      <td>129</td>\n",
       "      <td>1596</td>\n",
       "    </tr>\n",
       "    <tr>\n",
       "      <th>II - Cagayan Valley</th>\n",
       "      <td>117</td>\n",
       "      <td>2102</td>\n",
       "    </tr>\n",
       "    <tr>\n",
       "      <th>I - Ilocos Region</th>\n",
       "      <td>101</td>\n",
       "      <td>2247</td>\n",
       "    </tr>\n",
       "    <tr>\n",
       "      <th>III - Central Luzon</th>\n",
       "      <td>86</td>\n",
       "      <td>3151</td>\n",
       "    </tr>\n",
       "    <tr>\n",
       "      <th>NCR</th>\n",
       "      <td>46</td>\n",
       "      <td>4084</td>\n",
       "    </tr>\n",
       "  </tbody>\n",
       "</table>\n",
       "</div>"
      ],
      "text/plain": [
       "                          no electricity  electricity\n",
       "Region                                               \n",
       "ARMM                                1045         1203\n",
       "XII - SOCCSKSARGEN                   363         1759\n",
       "IX - Zamboanga Peninsula             343         1445\n",
       "VI - Western Visayas                 336         2515\n",
       "VIII - Eastern Visayas               324         2013\n",
       "XI - Davao Region                    315         2131\n",
       "VII - Central Visayas                304         2237\n",
       "V - Bicol Region                     294         2178\n",
       "X - Northern Mindanao                257         1630\n",
       "IVB - MIMAROPA                       180         1069\n",
       "XIII - Caraga                        161         1621\n",
       "IVA - CALABARZON                     135         4027\n",
       "CAR                                  129         1596\n",
       "II - Cagayan Valley                  117         2102\n",
       "I - Ilocos Region                    101         2247\n",
       "III - Central Luzon                   86         3151\n",
       "NCR                                   46         4084"
      ]
     },
     "execution_count": 48,
     "metadata": {},
     "output_type": "execute_result"
    }
   ],
   "source": [
    "table = pd.DataFrame([counts[0], counts[1]], index=[\"no electricity\", \"electricity\"]).transpose()\n",
    "table"
   ]
  },
  {
   "cell_type": "code",
   "execution_count": 49,
   "metadata": {
    "cell_id": "00076-9b530022-8342-499d-aed1-3c0b66ac651f",
    "deepnote_cell_type": "code",
    "deepnote_to_be_reexecuted": false,
    "execution_millis": 5,
    "execution_start": 1629033425799,
    "source_hash": "4eb3ebe6",
    "tags": []
   },
   "outputs": [
    {
     "data": {
      "text/plain": [
       "(4294.009149442903,\n",
       " 0.0,\n",
       " 16,\n",
       " array([[ 245.44887348, 2002.55112652],\n",
       "        [ 231.6915078 , 1890.3084922 ],\n",
       "        [ 195.22357019, 1592.77642981],\n",
       "        [ 311.28769497, 2539.71230503],\n",
       "        [ 255.16637782, 2081.83362218],\n",
       "        [ 267.06759099, 2178.93240901],\n",
       "        [ 277.44020797, 2263.55979203],\n",
       "        [ 269.90641248, 2202.09358752],\n",
       "        [ 206.03292894, 1680.96707106],\n",
       "        [ 136.37261698, 1112.62738302],\n",
       "        [ 194.56845754, 1587.43154246],\n",
       "        [ 454.42980936, 3707.57019064],\n",
       "        [ 188.34488735, 1536.65511265],\n",
       "        [ 242.28249567, 1976.71750433],\n",
       "        [ 256.36741768, 2091.63258232],\n",
       "        [ 353.43327556, 2883.56672444],\n",
       "        [ 450.93587522, 3679.06412478]]))"
      ]
     },
     "execution_count": 49,
     "metadata": {},
     "output_type": "execute_result"
    }
   ],
   "source": [
    "chi2_contingency(table)"
   ]
  },
  {
   "cell_type": "markdown",
   "metadata": {
    "cell_id": "00073-9cd99885-35f9-4068-8098-e260302ee7e5",
    "deepnote_cell_type": "markdown",
    "tags": []
   },
   "source": [
    "#### Insights and Conclusion\n",
    "\n",
    "Given the data from the table, the chi² test function above was able to compute the following values (rounded off to 2nd decimal place):\n",
    "\n",
    "- **Test Statistic**: 4294.01\n",
    "- **P-Value**: 0.00\n",
    "- **Degree of Freedom**: 16\n",
    "\n",
    "With the p-value of **0.00** being *less than* the significance level of **0.05**, the conclusion our group had reached was to **reject the *null hypothesis***, suggesting that there is a statistical difference between the access to electricity between households in different regions.\n",
    "\n",
    "Understanding that there are differences between each region's ability to provide households with electricity is key to understanding how to address the lack thereof. While there may be households here that do not require electricity, those are more likely outliers to the general sample as the data from the EDA 2 shows that a majority of households in the sample use it. In that sense, the fact that there is a significant difference between the availability of electricity of households should definitely be taken note of by regional governance in order to rectify issues with their respective power grids."
   ]
  },
  {
   "cell_type": "markdown",
   "metadata": {
    "created_in_deepnote_cell": true,
    "deepnote_cell_type": "markdown",
    "pycharm": {
     "name": "#%% md\n"
    },
    "tags": []
   },
   "source": [
    "<a style='text-decoration:none;line-height:16px;display:flex;color:#5B5B62;padding:10px;justify-content:end;' href='https://deepnote.com?utm_source=created-in-deepnote-cell&projectId=07392705-e4cf-448b-9ab1-f4066f1bab9d' target=\"_blank\">\n",
    "<img alt='Created in deepnote.com' style='display:inline;max-height:16px;margin:0px;margin-right:7.5px;' src='data:image/svg+xml;base64,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' > </img>\n",
    "Created in <span style='font-weight:600;margin-left:4px;'>Deepnote</span></a>"
   ]
  }
 ],
 "metadata": {
  "deepnote": {
   "is_reactive": false
  },
  "deepnote_execution_queue": [],
  "deepnote_notebook_id": "ad2d98c2-2cdd-4b8d-9450-fad29d4e5d10",
  "kernelspec": {
   "display_name": "Python 3",
   "language": "python",
   "name": "python3"
  },
  "language_info": {
   "codemirror_mode": {
    "name": "ipython",
    "version": 3
   },
   "file_extension": ".py",
   "mimetype": "text/x-python",
   "name": "python",
   "nbconvert_exporter": "python",
   "pygments_lexer": "ipython3",
   "version": "3.8.8"
  }
 },
 "nbformat": 4,
 "nbformat_minor": 2
}
